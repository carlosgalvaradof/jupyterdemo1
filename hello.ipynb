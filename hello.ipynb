{
 "cells": [
  {
   "cell_type": "code",
   "execution_count": 2,
   "id": "37de7122-76df-4378-85f2-be7bcda7b515",
   "metadata": {},
   "outputs": [
    {
     "name": "stdout",
     "output_type": "stream",
     "text": [
      "hello\n"
     ]
    }
   ],
   "source": [
    "!pip3 install pandas"
   ]
  },
  {
   "cell_type": "code",
   "execution_count": null,
   "id": "2cd917e8",
   "metadata": {},
   "outputs": [],
   "source": [
    "import os\n",
    "import pandas as pd"
   ]
  },
  {
   "cell_type": "code",
   "execution_count": null,
   "id": "117a592f-c847-4a5d-8b0e-bd45c6487fad",
   "metadata": {},
   "outputs": [],
   "source": [
    "column_names = [ \"col1\", \"col2\", \"col3\"]\n",
    "\n",
    "list = ['1','2','3']\n",
    "\n",
    "list.append(['4','5','6'])"
   ]
  },
  {
   "cell_type": "code",
   "execution_count": null,
   "id": "0ad7a51e",
   "metadata": {},
   "outputs": [],
   "source": [
    "df = pd.DataFrame(list, columns = column_names)\n",
    "\n",
    "df.head()"
   ]
  }
 ],
 "metadata": {
  "kernelspec": {
   "display_name": "Python 3 (ipykernel)",
   "language": "python",
   "name": "python3"
  },
  "language_info": {
   "codemirror_mode": {
    "name": "ipython",
    "version": 3
   },
   "file_extension": ".py",
   "mimetype": "text/x-python",
   "name": "python",
   "nbconvert_exporter": "python",
   "pygments_lexer": "ipython3",
   "version": "3.10.1"
  }
 },
 "nbformat": 4,
 "nbformat_minor": 5
}
