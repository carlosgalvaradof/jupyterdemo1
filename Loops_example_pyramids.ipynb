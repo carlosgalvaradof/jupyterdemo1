{
 "cells": [
  {
   "cell_type": "code",
   "execution_count": 2,
   "id": "576d9795",
   "metadata": {},
   "outputs": [
    {
     "name": "stdout",
     "output_type": "stream",
     "text": [
      "*\n",
      "**\n",
      "***\n",
      "****\n",
      "*****\n",
      "******\n",
      "*******\n"
     ]
    }
   ],
   "source": [
    "for i in range (1,8):\n",
    "    print(\"*\"*i)"
   ]
  },
  {
   "cell_type": "code",
   "execution_count": 6,
   "id": "6a35dded",
   "metadata": {},
   "outputs": [
    {
     "name": "stdout",
     "output_type": "stream",
     "text": [
      "*******\n",
      "******\n",
      "*****\n",
      "****\n",
      "***\n",
      "**\n",
      "*\n"
     ]
    }
   ],
   "source": [
    "x = 7\n",
    "while x>=1:\n",
    "    print(\"*\"*x)\n",
    "    x= x-1"
   ]
  },
  {
   "cell_type": "code",
   "execution_count": 9,
   "id": "3a042370",
   "metadata": {},
   "outputs": [
    {
     "name": "stdout",
     "output_type": "stream",
     "text": [
      "*******\n",
      "******\n",
      "*****\n",
      "****\n",
      "***\n",
      "**\n",
      "*\n"
     ]
    }
   ],
   "source": [
    "for i in range (7,0,-1):\n",
    "    print(\"*\"*i)"
   ]
  },
  {
   "cell_type": "code",
   "execution_count": 22,
   "id": "4f0e3e5d",
   "metadata": {},
   "outputs": [
    {
     "name": "stdout",
     "output_type": "stream",
     "text": [
      "#\n",
      "# #\n",
      "#  #\n",
      "#   #\n",
      "#    #\n",
      "#     #\n",
      "#      #\n",
      "#       #\n"
     ]
    }
   ],
   "source": [
    "for j in range (0,8):\n",
    "    if j > 0:\n",
    "        x = 1\n",
    "    else:\n",
    "        x = 0\n",
    "    print(\"#\" + \" \"*j +\"#\"*x)"
   ]
  },
  {
   "cell_type": "code",
   "execution_count": 23,
   "id": "74f50573",
   "metadata": {},
   "outputs": [
    {
     "name": "stdout",
     "output_type": "stream",
     "text": [
      "dict_values(['Berlin', 'Paris', 'Madrid', 'Lisboa'])\n"
     ]
    }
   ],
   "source": [
    "dict_cap = {\"Germany\":\"Berlin\", \"France\":\"Paris\", \"Spain\":\"Madrid\", \"Portugal\":\"Lisboa\"}\n",
    "print(dict_cap.values())"
   ]
  },
  {
   "cell_type": "code",
   "execution_count": 32,
   "id": "54bc53aa",
   "metadata": {},
   "outputs": [
    {
     "name": "stdout",
     "output_type": "stream",
     "text": [
      "Each MWh produced using Natural Gas produces 0.46 tonnes CO2\n",
      "Each MWh produced using Lignite produces 1.1 tonnes CO2\n",
      "Each MWh produced using Uranium produces 0 tonnes CO2\n",
      "Each MWh produced using Hard Coal produces 0.9 tonnes CO2\n",
      "Each MWh produced using Oil produces 0.8 tonnes CO2\n"
     ]
    }
   ],
   "source": [
    "CO2_per_fuel = {\"Natural Gas\":0.46, \"Lignite\":1.1, \"Uranium\":0, \"Hard Coal\":0.9, \"Oil\":0.8}\n",
    "for fuel in CO2_per_fuel:\n",
    "    print(\"Each MWh produced using \"+fuel+ \" produces \" +str(CO2_per_fuel[fuel]) + \" tonnes CO2\")"
   ]
  },
  {
   "cell_type": "code",
   "execution_count": null,
   "id": "d051273c",
   "metadata": {},
   "outputs": [],
   "source": []
  }
 ],
 "metadata": {
  "kernelspec": {
   "display_name": "Python 3 (ipykernel)",
   "language": "python",
   "name": "python3"
  },
  "language_info": {
   "codemirror_mode": {
    "name": "ipython",
    "version": 3
   },
   "file_extension": ".py",
   "mimetype": "text/x-python",
   "name": "python",
   "nbconvert_exporter": "python",
   "pygments_lexer": "ipython3",
   "version": "3.10.1"
  }
 },
 "nbformat": 4,
 "nbformat_minor": 5
}
