{
 "cells": [
  {
   "cell_type": "code",
   "execution_count": 121,
   "id": "290b2aa5",
   "metadata": {},
   "outputs": [
    {
     "name": "stdout",
     "output_type": "stream",
     "text": [
      "Please type the name of student 1:Carlos\n",
      "Please type the name of student 2:juanchi\n",
      "Please type the age of student 1:28\n",
      "Please type the age of student 2:65\n",
      "Please type the height of student 1:1.85\n",
      "Please type the height of student 2:1.60\n",
      "juanchi is 37 years older than Carlos\n",
      "S1_isTallerThan_S2 is True\n"
     ]
    }
   ],
   "source": [
    "Name_S1, Name_S2 = input(\"Please type the name of student 1:\"), input(\"Please type the name of student 2:\")\n",
    "Age_S1, Age_S2 = int(input(\"Please type the age of student 1:\")), int(input(\"Please type the age of student 2:\"))\n",
    "Height_S1, Height_S2 = float(input(\"Please type the height of student 1:\")), float(input(\"Please type the height of student 2:\"))\n",
    "S1_isOlderThan_S2 = abs(Age_S1-Age_S2)\n",
    "S1_isTallerThan_S2 = Height_S1 > Height_S2\n",
    "\n",
    "if Age_S1 > Age_S2:\n",
    "    print(Name_S1 + \" is \" +str(S1_isOlderThan_S2) +\" years older than \" + Name_S2)\n",
    "elif Age_S1 < Age_S2:\n",
    "    print(Name_S2 + \" is \"+str(S1_isOlderThan_S2)+ \" years older than \" + Name_S1)\n",
    "else: \n",
    "    print(Name_S1 + \" and \" +Name_S2+ \" are \" +str(Age_S1)+ \" years old\")\n",
    "\n",
    "print(\"S1_isTallerThan_S2 is \" +str(S1_isTallerThan_S2))"
   ]
  },
  {
   "cell_type": "code",
   "execution_count": null,
   "id": "0e217aae",
   "metadata": {},
   "outputs": [],
   "source": []
  }
 ],
 "metadata": {
  "kernelspec": {
   "display_name": "Python 3 (ipykernel)",
   "language": "python",
   "name": "python3"
  },
  "language_info": {
   "codemirror_mode": {
    "name": "ipython",
    "version": 3
   },
   "file_extension": ".py",
   "mimetype": "text/x-python",
   "name": "python",
   "nbconvert_exporter": "python",
   "pygments_lexer": "ipython3",
   "version": "3.10.1"
  }
 },
 "nbformat": 4,
 "nbformat_minor": 5
}
