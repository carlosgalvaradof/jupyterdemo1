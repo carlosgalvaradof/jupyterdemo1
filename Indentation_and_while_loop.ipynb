{
 "cells": [
  {
   "cell_type": "code",
   "execution_count": 5,
   "id": "74b033a0",
   "metadata": {},
   "outputs": [
    {
     "name": "stdout",
     "output_type": "stream",
     "text": [
      "Please sign in with your user name: 10\n",
      "Please type your password: password123\n",
      "Invalid password entered\n",
      "Please contact admin\n",
      "Thanks for using our system\n"
     ]
    }
   ],
   "source": [
    "user_id = int(input(\"Please sign in with your user name: \"))\n",
    "password = input(\"Please type your password: \")\n",
    "\n",
    "if password == \"password123\" and user_id == 1000:\n",
    "    print(\"\")\n",
    "    print(\"Password Correct!\")\n",
    "    print(\"Logging into system...\")\n",
    "    print(\"Please wait\")\n",
    "    \n",
    "elif password == \"admin\" and user_id == 0:\n",
    "    print(\"\")\n",
    "    print(\"You are logged in as an admin\")\n",
    "    print(\"Logging into system\")\n",
    "    \n",
    "else:\n",
    "    print(\"Invalid password entered\")\n",
    "    print(\"Please contact admin\")\n",
    "    \n",
    "print(\"Thanks for using our system\")\n"
   ]
  },
  {
   "cell_type": "code",
   "execution_count": 43,
   "id": "86b84d51",
   "metadata": {},
   "outputs": [
    {
     "name": "stdout",
     "output_type": "stream",
     "text": [
      "Please enter a positive number to sum and negative to stop counting: -1\n",
      "0\n"
     ]
    }
   ],
   "source": [
    "sum_number = 0\n",
    "number = 0\n",
    "\n",
    "while number >=0:\n",
    "    sum_number = sum_number + number\n",
    "    number = float(input(\"Please enter a positive number to sum and negative to stop counting: \"))\n",
    "# if number < 0:\n",
    "#     sum_number = sum_number + number\n",
    "print(sum_number)"
   ]
  },
  {
   "cell_type": "code",
   "execution_count": 38,
   "id": "5e5c51c3",
   "metadata": {},
   "outputs": [
    {
     "name": "stdout",
     "output_type": "stream",
     "text": [
      "Please enter the first number or a negative number to quit: 1\n",
      "Please enter the first number or a negative number to quit: 2\n",
      "Please enter the first number or a negative number to quit: 3\n",
      "Please enter the first number or a negative number to quit: 4\n",
      "Please enter the first number or a negative number to quit: 5\n",
      "Please enter the first number or a negative number to quit: -0.5\n",
      "Please enter the first number or a negative number to quit: -0.3\n",
      "Please enter the first number or a negative number to quit: -1\n",
      "\n",
      "The sum of all numbers you entered is:  14.2\n"
     ]
    }
   ],
   "source": [
    "total = 0\n",
    "user_number = float(input(\"Please enter the first number or a negative number to quit: \"))\n",
    "\n",
    "while user_number >-1:\n",
    "    total = total + user_number\n",
    "    user_number = float(input(\"Please enter the first number or a negative number to quit: \"))\n",
    "    \n",
    "print()\n",
    "print(\"The sum of all numbers you entered is: \", total)"
   ]
  }
 ],
 "metadata": {
  "kernelspec": {
   "display_name": "Python 3 (ipykernel)",
   "language": "python",
   "name": "python3"
  },
  "language_info": {
   "codemirror_mode": {
    "name": "ipython",
    "version": 3
   },
   "file_extension": ".py",
   "mimetype": "text/x-python",
   "name": "python",
   "nbconvert_exporter": "python",
   "pygments_lexer": "ipython3",
   "version": "3.10.1"
  }
 },
 "nbformat": 4,
 "nbformat_minor": 5
}
