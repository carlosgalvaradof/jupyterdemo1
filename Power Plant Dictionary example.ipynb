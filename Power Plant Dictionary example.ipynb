{
 "cells": [
  {
   "cell_type": "code",
   "execution_count": null,
   "id": "a4567f2b",
   "metadata": {},
   "outputs": [],
   "source": [
    "power_plant_dictionary = {}\n",
    "\n",
    "# power_plant_names = str(input(\"Please enter the name of the power plant: \"))\n",
    "# power_plant_power = input(\"Please enter the power capacity of the power plant: \")\n",
    "# power_plant_price = input(\"Please enter the price per kW: \")\n",
    "\n",
    "# power_plant_dictionary[power_plant_names] = float(power_plant_power)\n",
    "\n",
    "# sorting_index = str(input(\"Please specify a sorting index to be used (Power, price):\"))\n",
    "\n",
    "# if sorting_index is str(\"Power\") or str(\"power\"):\n",
    "#     print(power_plant_power, power_plant_price)\n",
    "    \n",
    "# elif sorting_index is str(\"Price\") or str(\"price\"):\n",
    "#     print(power_plant_price, power_plant_power)\n",
    "        \n",
    "# else: \n",
    "#     print(\"Please specify a valid index\")\n",
    "# power_plant_dictionary.values()  == power_plant_price\n",
    "\n",
    "# power_plant_power = int(power_plant_dictionary.values(input(\"Please enter the power capacity of the power plant\")))\n",
    "# power_plant_price = float(power_plant_dictionary.values(input(\"Please enter the price of the power plant\")))\n",
    "\n",
    "\n",
    "print(power_plant_dictionary)"
   ]
  },
  {
   "cell_type": "code",
   "execution_count": 7,
   "id": "6b279b3f",
   "metadata": {},
   "outputs": [
    {
     "name": "stdout",
     "output_type": "stream",
     "text": [
      "Please add the name of the plant: coal\n",
      "Please add the capacity of the plant: 1234\n",
      "Please add the price of the plant: 0.1\n",
      "Please specify a sorting index to be used (Power, price):price\n",
      "0.1 1234.0\n",
      "{'coal': (1234.0, 0.1)}\n"
     ]
    }
   ],
   "source": [
    "power_plant_dictionary = {}\n",
    "\n",
    "\n",
    "power_plant_names = input(\"Please add the name of the plant: \")\n",
    "power_plant_capacity = float(input(\"Please add the capacity of the plant: \"))\n",
    "power_plant_price = float(input(\"Please add the price of the plant: \"))\n",
    "power_plant_dictionary[power_plant_names] = power_plant_capacity, power_plant_price #I do not know why the result is 'hola': (100.2, 0.1) within parenthesis\n",
    "\n",
    "sorting = input(\"Please specify a sorting index to be used (Power, price):\")\n",
    "\n",
    "if sorting == \"power\":\n",
    "    print(power_plant_capacity, power_plant_price) #I do not know why even if the statement is false, the result is as it was true \n",
    "elif sorting == \"price\":\n",
    "    print(power_plant_price, power_plant_capacity)\n",
    "else:\n",
    "    print(\"Please enter a valid index: \")\n",
    "\n",
    "# power_plant_dictionary = {power_plant_names:power_plant_capacity}\n",
    "\n",
    "# split_values = {key: value.split() for key, value in power_plant_dictionary.items()}\n",
    "\n",
    "# power_plant_capacity.append(power_plant_price)\n",
    "\n",
    "\n",
    "print(power_plant_dictionary)\n",
    "# print(type(power_plant_capacity))\n"
   ]
  },
  {
   "cell_type": "code",
   "execution_count": 29,
   "id": "4d647e2a",
   "metadata": {},
   "outputs": [
    {
     "name": "stdout",
     "output_type": "stream",
     "text": [
      "Please indicate the number of power plants you want to add: 1\n",
      "Please add the name of the plant: hola1\n",
      "Please add the capacity of the plant: 123\n",
      "Please add the price of the plant: 0.4\n",
      "{'hola1': (123.0, 0.4)}\n"
     ]
    }
   ],
   "source": [
    "\n",
    "power_plant_names_list = []\n",
    "power_plant_capacity_list = []\n",
    "power_plant_price_list = []\n",
    "\n",
    "number_power_plants = int(input(\"Please indicate the number of power plants you want to add: \"))\n",
    "\n",
    "for number in range(1,number_power_plants+1):\n",
    "    power_plant_name = input(\"Please add the name of the plant: \")\n",
    "    power_plant_names_list.append(power_plant_name)\n",
    "    power_plant_capacity = float(input(\"Please add the capacity of the plant: \"))\n",
    "    power_plant_capacity_list.append(power_plant_capacity)\n",
    "    power_plant_price = float(input(\"Please add the price of the plant: \"))\n",
    "    power_plant_price_list.append(power_plant_price)\n",
    "\n",
    "\n",
    "power_plant_dictionary = dict(zip(power_plant_names_list, (zip(power_plant_capacity_list, power_plant_price_list))))\n",
    "list(power_plant_dictionary.values())\n",
    "print(power_plant_dictionary) #I do not know how to convert the values to list instead of tuples\n",
    "\n",
    "sorting_index = str(input(\"Please specify a sorting index to be used (Power, price):\"))\n",
    "\n",
    "if sorting == \"power\":\n",
    "    print(power_plant_capacity, power_plant_price) #I do not know why even if the statement is false, the result is as it was true \n",
    "elif sorting == \"price\":\n",
    "    print(power_plant_price, power_plant_capacity)\n",
    "else:\n",
    "    print(\"Please enter a valid index: \")\n",
    "\n",
    "# print(power_plant_names_list, power_plant_capacity_list, power_plant_price_list)\n"
   ]
  },
  {
   "cell_type": "code",
   "execution_count": null,
   "id": "309b20a7",
   "metadata": {},
   "outputs": [],
   "source": []
  },
  {
   "cell_type": "code",
   "execution_count": null,
   "id": "6dbb00de",
   "metadata": {},
   "outputs": [],
   "source": []
  }
 ],
 "metadata": {
  "kernelspec": {
   "display_name": "Python 3 (ipykernel)",
   "language": "python",
   "name": "python3"
  },
  "language_info": {
   "codemirror_mode": {
    "name": "ipython",
    "version": 3
   },
   "file_extension": ".py",
   "mimetype": "text/x-python",
   "name": "python",
   "nbconvert_exporter": "python",
   "pygments_lexer": "ipython3",
   "version": "3.10.1"
  }
 },
 "nbformat": 4,
 "nbformat_minor": 5
}
