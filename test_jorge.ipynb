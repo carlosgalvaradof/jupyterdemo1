{
 "cells": [
  {
   "cell_type": "code",
   "execution_count": 26,
   "id": "f82f393d",
   "metadata": {},
   "outputs": [],
   "source": [
    "import numpy"
   ]
  },
  {
   "cell_type": "code",
   "execution_count": 27,
   "id": "812a6b2d",
   "metadata": {},
   "outputs": [],
   "source": [
    "\n",
    "def is_valid_unit(input_value):\n",
    "    return input_value.lower() == \"w\" or input_value.lower()==\"kw\""
   ]
  },
  {
   "cell_type": "code",
   "execution_count": 28,
   "id": "35a8aebe",
   "metadata": {},
   "outputs": [],
   "source": [
    "def is_valid_measure(value):\n",
    "    return value>=0"
   ]
  },
  {
   "cell_type": "code",
   "execution_count": 33,
   "id": "18f714fb",
   "metadata": {},
   "outputs": [],
   "source": [
    "#SETUP INPUT PARAMETERS\n",
    "source_unit=\"w\"\n",
    "target_unit=\"kw\"\n",
    "value=1"
   ]
  },
  {
   "cell_type": "code",
   "execution_count": 34,
   "id": "cbd8da8c",
   "metadata": {},
   "outputs": [],
   "source": [
    "# ROWS:input_unit w,kw,mw\n",
    "# COLUMNS: target_unit w.kw,mw\n",
    "# e.g.#1 (0,1) => convert from watt to kw\n",
    "# e.g.#2 (1,0) => convert from kw to w\n",
    "# e.g.#3 (2,1) => convert from mw to kw\n",
    "conversion_matrix = [\n",
    "    [1, 0.001, 0.000001], \n",
    "    [1000, 1, 0.001],\n",
    "    [1000000, 0.001, 1]\n",
    "]"
   ]
  },
  {
   "cell_type": "code",
   "execution_count": 35,
   "id": "4d305798",
   "metadata": {},
   "outputs": [],
   "source": [
    "def get_matrix_index_by_unit(unit):\n",
    "    if unit.lower()==\"w\": \n",
    "        return 0\n",
    "    elif unit.lower()==\"kw\":\n",
    "        return 1\n",
    "    else: \n",
    "        return 2"
   ]
  },
  {
   "cell_type": "code",
   "execution_count": 37,
   "id": "552492d9",
   "metadata": {},
   "outputs": [
    {
     "name": "stdout",
     "output_type": "stream",
     "text": [
      "input values are correct. Proceeding with conversion...\n",
      "the result from converting 1w to kw is: 0.00100\n"
     ]
    }
   ],
   "source": [
    "if is_valid_unit(source_unit) and is_valid_unit(target_unit) and is_valid_measure(value):\n",
    "    print(\"input values are correct. Proceeding with conversion...\")\n",
    "    row_index = get_matrix_index_by_unit(source_unit)\n",
    "    column_index = get_matrix_index_by_unit(target_unit)\n",
    "    multiplication_factor = conversion_matrix[row_index][column_index]\n",
    "    result = value * multiplication_factor\n",
    "    formated_result = format(result, '.5f') # 5 decimal points\n",
    "    result_as_string = str(formated_result)\n",
    "    input_value_as_string = str(value)\n",
    "    print(\"the result from converting \" + input_value_as_string + source_unit + \" to \" + target_unit +  \" is: \" + result_as_string)\n",
    "    \n",
    "else:\n",
    "    print(\"ERROR: Incorrect values\")"
   ]
  },
  {
   "cell_type": "code",
   "execution_count": null,
   "id": "51e34615",
   "metadata": {},
   "outputs": [],
   "source": []
  }
 ],
 "metadata": {
  "kernelspec": {
   "display_name": "Python 3 (ipykernel)",
   "language": "python",
   "name": "python3"
  },
  "language_info": {
   "codemirror_mode": {
    "name": "ipython",
    "version": 3
   },
   "file_extension": ".py",
   "mimetype": "text/x-python",
   "name": "python",
   "nbconvert_exporter": "python",
   "pygments_lexer": "ipython3",
   "version": "3.9.10"
  }
 },
 "nbformat": 4,
 "nbformat_minor": 5
}
