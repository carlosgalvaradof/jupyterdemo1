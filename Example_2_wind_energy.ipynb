{
 "cells": [
  {
   "cell_type": "code",
   "execution_count": 21,
   "id": "31f9494c",
   "metadata": {},
   "outputs": [
    {
     "name": "stdout",
     "output_type": "stream",
     "text": [
      "Please add the radius of the wind turbine blade in m:6\n",
      "The energy coming from the wind turbine is: 72.94778141635501 kWh\n"
     ]
    }
   ],
   "source": [
    "#calculate the total wind energy flowing through an imaginary surface with area A during the time t\n",
    "# equation : P = 0.5*A*rho*v**3\n",
    "import numpy as np\n",
    "\n",
    "r = float(input('Please add the radius of the wind turbine blade in m:'))\n",
    "\n",
    "A = np.pi*r**2 #Area of imaginary surface or swept area, unit: [m²]\n",
    "rho = 1.29 #density of air, units: [kg/m³]\n",
    "v = 10 #wind speed, unit: [m/s]\n",
    "t = 30/60 #time, converted to hour, unit: [hour]\n",
    "\n",
    "Energy = (0.5*A*rho*(v**3)*(t))/1000 # energy coming from wind, time is converted to seconds, unit: [kWh, (kg*m²/s³)*h]\n",
    "\n",
    "print(\"The energy coming from the wind turbine is: \" +str(Energy) + \" kWh\")"
   ]
  },
  {
   "cell_type": "code",
   "execution_count": null,
   "id": "a42f8251",
   "metadata": {},
   "outputs": [],
   "source": []
  }
 ],
 "metadata": {
  "kernelspec": {
   "display_name": "Python 3 (ipykernel)",
   "language": "python",
   "name": "python3"
  },
  "language_info": {
   "codemirror_mode": {
    "name": "ipython",
    "version": 3
   },
   "file_extension": ".py",
   "mimetype": "text/x-python",
   "name": "python",
   "nbconvert_exporter": "python",
   "pygments_lexer": "ipython3",
   "version": "3.10.1"
  }
 },
 "nbformat": 4,
 "nbformat_minor": 5
}
