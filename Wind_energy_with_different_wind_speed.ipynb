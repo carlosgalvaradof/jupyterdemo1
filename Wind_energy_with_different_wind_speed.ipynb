{
 "cells": [
  {
   "cell_type": "code",
   "execution_count": 8,
   "id": "31f9494c",
   "metadata": {},
   "outputs": [
    {
     "name": "stdout",
     "output_type": "stream",
     "text": [
      "Please add the radius of the wind turbine blade in m:60\n",
      "[0.0, 7294.7781416355, 58358.225133084, 196959.0098241585, 466865.801064672, 911847.2677044375, 1575672.078593268, 2502108.9025809765, 3734926.408517376, 5317893.265252279, 7294778.1416355, 9709349.70651685, 12605376.628746144, 16026627.577173194, 20016871.220647812, 24619876.22801981, 29879411.26813901, 35839245.00985521, 42543146.12201823, 50034883.2734779, 58358225.133084, 67556940.36968637, 77674797.6521348, 88755565.64927913, 100843013.02996916, 113980908.46305469, 128213020.61738555, 143583118.16181156, 160134969.7651825, 177912344.09634823]\n",
      "30\n"
     ]
    }
   ],
   "source": [
    "#calculate the total wind energy flowing through an imaginary surface with area A during the time t\n",
    "# equation : P = 0.5*A*rho*v**3\n",
    "import numpy as np\n",
    "\n",
    "r = float(input('Please add the radius of the wind turbine blade in m:'))\n",
    "\n",
    "A = np.pi*r**2 #Area of imaginary surface or swept area, unit: [m²]\n",
    "rho = 1.29 #density of air, units: [kg/m³]\n",
    "\n",
    "Power = []\n",
    "\n",
    "for wind_speed in range (0,30):\n",
    "    Power.append(0.5*A*rho*(wind_speed**3)) # energy coming from wind, unit: [kWh, (kg*m²/s³)*h]\n",
    "print(Power)\n",
    "print(len(Power))"
   ]
  },
  {
   "cell_type": "code",
   "execution_count": null,
   "id": "a42f8251",
   "metadata": {},
   "outputs": [],
   "source": []
  }
 ],
 "metadata": {
  "kernelspec": {
   "display_name": "Python 3 (ipykernel)",
   "language": "python",
   "name": "python3"
  },
  "language_info": {
   "codemirror_mode": {
    "name": "ipython",
    "version": 3
   },
   "file_extension": ".py",
   "mimetype": "text/x-python",
   "name": "python",
   "nbconvert_exporter": "python",
   "pygments_lexer": "ipython3",
   "version": "3.10.1"
  }
 },
 "nbformat": 4,
 "nbformat_minor": 5
}
